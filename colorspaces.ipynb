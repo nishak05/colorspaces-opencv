{
  "nbformat": 4,
  "nbformat_minor": 0,
  "metadata": {
    "colab": {
      "provenance": []
    },
    "kernelspec": {
      "name": "python3",
      "display_name": "Python 3"
    },
    "language_info": {
      "name": "python"
    }
  },
  "cells": [
    {
      "cell_type": "code",
      "execution_count": null,
      "metadata": {
        "id": "lttusOwyNGu4"
      },
      "outputs": [],
      "source": [
        "import cv2"
      ]
    },
    {
      "cell_type": "code",
      "source": [
        "img=cv2.imread('butterfly.jpg')"
      ],
      "metadata": {
        "id": "1h3N7XPgNKRo"
      },
      "execution_count": null,
      "outputs": []
    },
    {
      "cell_type": "code",
      "source": [
        "img_rgb=cv2.cvtColor(img, cv2.COLOR_BGR2RGB)\n",
        "img_gray=cv2.cvtColor(img, cv2.COLOR_BGR2GRAY)\n",
        "img_hsv=cv2.cvtColor(img, cv2.COLOR_BGR2HSV)"
      ],
      "metadata": {
        "id": "Gsx9XOu1NM2P"
      },
      "execution_count": null,
      "outputs": []
    },
    {
      "cell_type": "code",
      "source": [
        "cv2.imshow('img',img)\n",
        "cv2.imshow('img_rgb',img_rgb)\n",
        "cv2.imshow('img_gray',img_gray)\n",
        "cv2.imshow('img_hsv',img_hsv)\n",
        "\n",
        "cv2.waitKey(0)"
      ],
      "metadata": {
        "id": "bw6J5tXtNQOi"
      },
      "execution_count": null,
      "outputs": []
    }
  ]
}